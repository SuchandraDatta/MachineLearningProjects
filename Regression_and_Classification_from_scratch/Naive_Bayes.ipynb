{
  "nbformat": 4,
  "nbformat_minor": 0,
  "metadata": {
    "colab": {
      "name": "Naive_Bayes.ipynb",
      "provenance": []
    },
    "kernelspec": {
      "name": "python3",
      "display_name": "Python 3"
    }
  },
  "cells": [
    {
      "cell_type": "code",
      "metadata": {
        "id": "huy3TbFkwLQu",
        "outputId": "7da990ec-49f6-409f-8eb3-f32439d027fd",
        "colab": {
          "base_uri": "https://localhost:8080/",
          "height": 656
        }
      },
      "source": [
        "#Naive Bayes\r\n",
        "import numpy as np\r\n",
        "import matplotlib.pyplot as plt\r\n",
        "\r\n",
        "#Standardization performed\r\n",
        "def feature_scaling(on_this_array):\r\n",
        "  if(len(on_this_array.shape)==2):\r\n",
        "    on_this_array=on_this_array.astype(np.double)\r\n",
        "    for i in range(0, len(on_this_array[0])):\r\n",
        "        meanValue=np.mean(on_this_array[:,i])\r\n",
        "        stdValue=np.std(on_this_array[:,i])\r\n",
        "        on_this_array[:,i]=(on_this_array[:,i]-meanValue)/stdValue\r\n",
        "  else:\r\n",
        "    meanValue=np.mean(on_this_array)\r\n",
        "    stdValue=np.std(on_this_array)\r\n",
        "    on_this_array[:]=(on_this_array[:]-meanValue)/stdValue\r\n",
        "  return on_this_array\r\n",
        "\r\n",
        "def get_mean(some_array):\r\n",
        "  return np.mean(some_array, axis=0)\r\n",
        "\r\n",
        "def get_std(some_array):\r\n",
        "  return np.std(some_array, axis=0)\r\n",
        "\r\n",
        "def get_Gaussian_PDF(x, mean_value, std_value):\r\n",
        "  from math import sqrt\r\n",
        "  from math import pi\r\n",
        "  from math import exp\r\n",
        "  term=exp(-((x-mean_value)**2/(2*std_value**2)))\r\n",
        "  return (1/(sqrt(2*pi)*std_value))*term\r\n",
        "\r\n",
        "def predict_proba(groups, x_testing, stats_group, prob_y):\r\n",
        "  prob_groups={}\r\n",
        "  hold=1\r\n",
        "  for key, values in groups.items():\r\n",
        "    for i in range(0, len(stats_group[key][0])):\r\n",
        "      hold=hold*get_Gaussian_PDF(x_testing[i], stats_group[key][0][i], stats_group[key][1][i])\r\n",
        "    prob_groups[key]=prob_y[key]*hold\r\n",
        "    prob_y[key]=0.5\r\n",
        "    hold=1\r\n",
        "\r\n",
        "  ans_prob=0\r\n",
        "  for key, value in prob_groups.items():\r\n",
        "    if(ans_prob<value):\r\n",
        "      ans_prob=value\r\n",
        "      ans_label=key\r\n",
        "  return ans_label\r\n",
        "\r\n",
        "\r\n",
        "dataset = [[3.393533211,2.331273381,0],\r\n",
        "\t[3.110073483,1.781539638,0],\r\n",
        "\t[1.343808831,3.368360954,0],\r\n",
        "\t[3.582294042,4.67917911,0],\r\n",
        "\t[2.280362439,2.866990263,0],\r\n",
        "\t[7.423436942,4.696522875,1],\r\n",
        "\t[5.745051997,3.533989803,1],\r\n",
        "\t[9.172168622,2.511101045,1],\r\n",
        "\t[7.792783481,3.424088941,1],\r\n",
        "\t[7.939820817,0.791637231,1]]\r\n",
        "\r\n",
        "#dataset=np.asarray(dataset)\r\n",
        "import matplotlib.pyplot as plt\r\n",
        "plt.scatter(np.asarray(dataset)[0:5,0], np.asarray(dataset)[0:5,1], color='blue')\r\n",
        "plt.scatter(np.asarray(dataset)[5:,0], np.asarray(dataset)[5:,1], color='green')\r\n",
        "plt.title(\"Original dataset\")\r\n",
        "plt.show()\r\n",
        "\r\n",
        "groups={}\r\n",
        "for i in range(0, len(dataset)):\r\n",
        "  if(dataset[i][2] in groups.keys()):\r\n",
        "    temp=groups[dataset[i][2]]\r\n",
        "    temp.append(dataset[i][0:2])\r\n",
        "    groups[dataset[i][2]]=temp\r\n",
        "  else:\r\n",
        "    temp=[]\r\n",
        "    temp.append(dataset[i][0:2])\r\n",
        "    groups[dataset[i][2]]=temp\r\n",
        "\r\n",
        "stats_group={}\r\n",
        "for key, values in groups.items():\r\n",
        "  values=np.asarray(values)\r\n",
        "  temp=[]\r\n",
        "  temp.append(get_mean(values))\r\n",
        "  temp.append(get_std(values))\r\n",
        "  stats_group[key]=temp\r\n",
        "\r\n",
        "#P(y=0|x1,x2)=P(x1|y=0)*P(x2|y=0)*P(y=0) basic formula\r\n",
        "#Number of y=0/total number of samples\r\n",
        "prob_y=[]\r\n",
        "prob_y.append(0.5)\r\n",
        "prob_y.append(0.5)\r\n",
        "\r\n",
        "x_testing=[\r\n",
        "           [1,1],[2,3],[3,2],[4,5],[10,9],[9,8],[5.7,3.2]\r\n",
        "]\r\n",
        "colors=['purple', 'red']\r\n",
        "for i in range(0, len(x_testing)):\r\n",
        "  label=predict_proba(groups, x_testing[i], stats_group, prob_y)\r\n",
        "  print(\"Label for \", x_testing[i], \"\\tis \", label)\r\n",
        "  plt.scatter(x_testing[i][0], x_testing[i][1], color=colors[label])\r\n",
        "\r\n",
        "plt.show()\r\n",
        "\r\n",
        "\r\n",
        "\r\n",
        "\r\n",
        "\r\n",
        "\r\n",
        "\r\n"
      ],
      "execution_count": 2,
      "outputs": [
        {
          "output_type": "display_data",
          "data": {
            "image/png": "[encoded data removed]",
            "text/plain": [
              "<Figure size 432x288 with 1 Axes>"
            ]
          },
          "metadata": {
            "tags": [],
            "needs_background": "light"
          }
        },
        {
          "output_type": "stream",
          "text": [
            "Label for  [1, 1] \tis  0\n",
            "Label for  [2, 3] \tis  0\n",
            "Label for  [3, 2] \tis  0\n",
            "Label for  [4, 5] \tis  0\n",
            "Label for  [10, 9] \tis  1\n",
            "Label for  [9, 8] \tis  1\n",
            "Label for  [5.7, 3.2] \tis  1\n"
          ],
          "name": "stdout"
        },
        {
          "output_type": "display_data",
          "data": {
            "image/png": "[encoded data removed]",
            "text/plain": [
              "<Figure size 432x288 with 1 Axes>"
            ]
          },
          "metadata": {
            "tags": [],
            "needs_background": "light"
          }
        }
      ]
    }
  ]
}