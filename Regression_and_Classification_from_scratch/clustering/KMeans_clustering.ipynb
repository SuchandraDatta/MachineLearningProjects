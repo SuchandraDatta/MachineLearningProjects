{
  "nbformat": 4,
  "nbformat_minor": 0,
  "metadata": {
    "colab": {
      "name": "KMeans_clustering.ipynb",
      "provenance": []
    },
    "kernelspec": {
      "name": "python3",
      "display_name": "Python 3"
    }
  },
  "cells": [
    {
      "cell_type": "code",
      "metadata": {
        "colab": {
          "base_uri": "https://localhost:8080/",
          "height": 605
        },
        "id": "1wqRfMiMwbav",
        "outputId": "bb824d82-a534-4693-95cc-e37ed998e76b"
      },
      "source": [
        "#K means clustering\r\n",
        "import numpy as np\r\n",
        "import matplotlib.pyplot as plt\r\n",
        "\r\n",
        "def EuclideanDistance(new_point, datasetX):\r\n",
        "  sum_squares=[]\r\n",
        "  for i in range(0, len(new_point)):\r\n",
        "    sum_squares.append((new_point[i]-datasetX[i])**2);\r\n",
        "  sum_squares=np.asarray(sum_squares)\r\n",
        "  ans=np.sqrt(np.sum(sum_squares))\r\n",
        "  return ans\r\n",
        "\r\n",
        "#Standardization performed\r\n",
        "def feature_scaling(on_this_array):\r\n",
        "  if(len(on_this_array.shape)==2):\r\n",
        "    on_this_array=on_this_array.astype(np.double)\r\n",
        "    for i in range(0, len(on_this_array[0])):\r\n",
        "        meanValue=np.mean(on_this_array[:,i])\r\n",
        "        stdValue=np.std(on_this_array[:,i])\r\n",
        "        on_this_array[:,i]=(on_this_array[:,i]-meanValue)/stdValue\r\n",
        "  else:\r\n",
        "    meanValue=np.mean(on_this_array)\r\n",
        "    stdValue=np.std(on_this_array)\r\n",
        "    on_this_array[:]=(on_this_array[:]-meanValue)/stdValue\r\n",
        "  return on_this_array\r\n",
        "\r\n",
        "#Plotting the results\r\n",
        "def plot_graph(plot_on_x, plot_on_y, typeOfGraph, col):\r\n",
        "  from matplotlib.pyplot import figure\r\n",
        "  figure(figsize=(3, 3))\r\n",
        "  if(typeOfGraph=='line'):\r\n",
        "    plt.plot(plot_on_x, plot_on_y, color=col)\r\n",
        "    scale_factor = 1\r\n",
        "\r\n",
        "    xmin, xmax = plt.xlim()\r\n",
        "    ymin, ymax = plt.ylim()\r\n",
        "\r\n",
        "    plt.xlim(xmin * scale_factor, xmax * scale_factor)\r\n",
        "    plt.ylim(ymin * scale_factor, ymax * scale_factor)\r\n",
        "    plt.show()\r\n",
        "  else:\r\n",
        "    #plt.scatter(plot_on_x[0], plot_on_y[0], color=col[0])\r\n",
        "    for i in range(0, len(plot_on_x)):\r\n",
        "      plt.scatter(plot_on_x[i], plot_on_y[i], color=col[i])\r\n",
        "    plt.show()\r\n",
        "\r\n",
        "\r\n",
        "'''x=[\r\n",
        "   [1,1], [2,2],[3,3],[4,4],[10,10],[11,12],[13,14],[12,15]\r\n",
        "]'''\r\n",
        "\r\n",
        "x=[\r\n",
        "   [1,1],[2,2],[3,3],[4,10],[4,20],[5.5,15],[5,12],[10,10],[11,11],[12,11],[30,10], [31,11], [32,12], [33,14],[31,20],[35,30]\r\n",
        "]\r\n",
        "x=np.asarray(x)\r\n",
        "x=feature_scaling(x)\r\n",
        "plot_x=np.asarray(x)\r\n",
        "plt.scatter(plot_x[:,0],plot_x[:,1], color=\"blue\")\r\n",
        "plt.show()\r\n",
        "\r\n",
        "#Getting k centroids\r\n",
        "k=3\r\n",
        "centroids=[]\r\n",
        "dist=[]\r\n",
        "groups={}\r\n",
        "flag=0\r\n",
        "\r\n",
        "centroids.append(x[0])\r\n",
        "centroids.append(x[7])\r\n",
        "centroids.append(x[3])\r\n",
        "centroids=np.asarray(centroids)\r\n",
        "centroids=centroids.astype(np.double)\r\n",
        "#print(\"Initially groups is: \", groups)\r\n",
        "#print(\"Chosen centroids: \", centroids)\r\n",
        "\r\n",
        "#Get distance for all the points from each centroid\r\n",
        "while(flag==0):\r\n",
        "  for j in range(0, len(x)):\r\n",
        "    for i in range(0, k):\r\n",
        "      get_dist=EuclideanDistance(centroids[i], x[j])\r\n",
        "      dist.append(get_dist)\r\n",
        "  \r\n",
        "    group_number=dist.index(np.min(dist))\r\n",
        "    #Make a dict of groups, indexed by cluster number containing list of chosen points for that cluster\r\n",
        "    if(group_number in groups.keys()):\r\n",
        "         temp=groups[group_number]\r\n",
        "         temp.append(x[j])\r\n",
        "         groups[group_number]=temp\r\n",
        "         \r\n",
        "    else:\r\n",
        "        temp=[]\r\n",
        "        temp.append(x[j])\r\n",
        "        groups[group_number]=temp\r\n",
        "        \r\n",
        "    dist=[]\r\n",
        "  #Centroid update step\r\n",
        "  for key, value in groups.items():\r\n",
        "    value=np.asarray(value)\r\n",
        "    value=value.astype(np.double)\r\n",
        "    #If the update is trivial, stop iterations\r\n",
        "    if(np.max(np.abs(centroids[key]-np.mean(value, axis=0)))>0.05):\r\n",
        "      centroids[key]=np.mean(value, axis=0)\r\n",
        "    else:\r\n",
        "      flag=1\r\n",
        "      break\r\n",
        "\r\n",
        "    \r\n",
        "  if(flag==1):\r\n",
        "    break\r\n",
        "  groups={}\r\n",
        "\r\n",
        "print(\"Final centroids: \", centroids)\r\n",
        "print(\"Finalgroups: \", groups)\r\n",
        "\r\n",
        "col=['red', 'green', 'blue', 'pink','orange','purple','brown']\r\n",
        "pos=0\r\n",
        "for key, values in groups.items():\r\n",
        "  x=np.asarray(values)\r\n",
        "  plt.scatter(x[:,0], x[:,1], color=col[pos])\r\n",
        "  pos=(pos+1)%4\r\n",
        "\r\n",
        "plt.show()\r\n"
      ],
      "execution_count": 3,
      "outputs": [
        {
          "output_type": "display_data",
          "data": {
            "image/png": "[encoded data removed]",
            "text/plain": [
              "<Figure size 432x288 with 1 Axes>"
            ]
          },
          "metadata": {
            "tags": [],
            "needs_background": "light"
          }
        },
        {
          "output_type": "stream",
          "text": [
            "Final centroids:  [[-1.03961426 -1.43039708]\n",
            " [ 0.71936527  0.33375932]\n",
            " [-0.83886116  0.32183934]]\n",
            "Finalgroups:  {0: [array([-1.11609163, -1.57343679]), array([-1.03961426, -1.43039708]), array([-0.96313689, -1.28735737])], 2: [array([-0.88665952, -0.28607942]), array([-0.88665952,  1.14431766]), array([-0.77194346,  0.42911912]), array([-0.81018215,  0.        ]), array([-0.42779529, -0.28607942]), array([-0.35131792, -0.14303971]), array([-0.27484055, -0.14303971])], 1: [array([ 1.10175212, -0.28607942]), array([ 1.1782295 , -0.14303971]), array([1.25470687, 0.        ]), array([1.33118424, 0.28607942]), array([1.1782295 , 1.14431766]), array([1.48413898, 2.57471474])]}\n"
          ],
          "name": "stdout"
        },
        {
          "output_type": "display_data",
          "data": {
            "image/png": "[encoded data removed]",
            "text/plain": [
              "<Figure size 432x288 with 1 Axes>"
            ]
          },
          "metadata": {
            "tags": [],
            "needs_background": "light"
          }
        }
      ]
    }
  ]
}