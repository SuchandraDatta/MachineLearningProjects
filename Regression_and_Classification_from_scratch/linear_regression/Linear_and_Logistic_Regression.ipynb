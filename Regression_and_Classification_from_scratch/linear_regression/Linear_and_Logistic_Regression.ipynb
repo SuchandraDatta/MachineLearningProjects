{
  "nbformat": 4,
  "nbformat_minor": 0,
  "metadata": {
    "colab": {
      "name": "Linear_and_Logistic_Regression.ipynb",
      "provenance": []
    },
    "kernelspec": {
      "name": "python3",
      "display_name": "Python 3"
    }
  },
  "cells": [
    {
      "cell_type": "code",
      "metadata": {
        "colab": {
          "base_uri": "https://localhost:8080/",
          "height": 1000
        },
        "id": "m5G6LQ2azfh-",
        "outputId": "0b5433e8-ac30-4722-ecef-8fc84e09b3be"
      },
      "source": [
        "#Logistic Regression and Linear Regression from formulae with regularization included(L2 regularization/Ridge regression)\r\n",
        "import numpy as np\r\n",
        "import matplotlib.pyplot as plt\r\n",
        "import numpy as np\r\n",
        "\r\n",
        "def hypothesis(xi, thetaParam, category):\r\n",
        "  if(category=='linear'):\r\n",
        "    hypo=np.dot(thetaParam,xi)\r\n",
        "  else:\r\n",
        "    e_power=np.dot(thetaParam, xi)\r\n",
        "    hypo=1/(1+np.exp(-e_power))\r\n",
        "  return hypo\r\n",
        "\r\n",
        "def differenceTerm(value1, y):\r\n",
        "  return value1-y\r\n",
        "\r\n",
        "def predict(thetaParam,x, category):\r\n",
        "  ans=[]\r\n",
        "  for i in range(0, len(x)):\r\n",
        "    hypo=hypothesis(x[i], thetaParam, category)\r\n",
        "    if(category=='logistic'):\r\n",
        "        if(hypo>=0.5):\r\n",
        "          hypo=1\r\n",
        "        else:\r\n",
        "          hypo=0\r\n",
        "    ans.append(hypo)\r\n",
        "  ans=np.asarray(ans)\r\n",
        "  return ans\r\n",
        "\r\n",
        "def plot_graph(plot_on_x, plot_on_y, typeOfGraph, col):\r\n",
        "  from matplotlib.pyplot import figure\r\n",
        "  figure(figsize=(10, 10))\r\n",
        "  if(typeOfGraph=='line'):\r\n",
        "    plt.plot(plot_on_x, plot_on_y, color=col)\r\n",
        "    scale_factor = 1\r\n",
        "\r\n",
        "    xmin, xmax = plt.xlim()\r\n",
        "    ymin, ymax = plt.ylim()\r\n",
        "\r\n",
        "    plt.xlim(xmin * scale_factor, xmax * scale_factor)\r\n",
        "    plt.ylim(ymin * scale_factor, ymax * scale_factor)\r\n",
        "    plt.show()\r\n",
        "  else:\r\n",
        "    plt.scatter(plot_on_x[0], plot_on_y[0], color=col[0])\r\n",
        "    plt.scatter(plot_on_x[1], plot_on_y[1], color=col[1])\r\n",
        "    plt.show()\r\n",
        "\r\n",
        "def feature_scaling(on_this_array):\r\n",
        "  if(len(on_this_array.shape)==2):\r\n",
        "    on_this_array=on_this_array.astype(np.double)  \r\n",
        "    for i in range(0, len(on_this_array[0])):\r\n",
        "      meanValue=np.mean(on_this_array[:, i])\r\n",
        "      stdValue=np.std(on_this_array[:, i])\r\n",
        "      on_this_array[:,i]=(on_this_array[:,i]-meanValue)/stdValue\r\n",
        "  else:\r\n",
        "    on_this_array=on_this_array.astype(np.double)\r\n",
        "    y_meanValue=np.mean(on_this_array)\r\n",
        "    y_stdValue=np.std(on_this_array)\r\n",
        "    on_this_array=(on_this_array[:]-y_meanValue)/y_stdValue\r\n",
        "  return on_this_array\r\n",
        "\r\n",
        "def gradientDescent(x,y, category):\r\n",
        "  sum1=0\r\n",
        "  sum_cost=0\r\n",
        "  temp=[]\r\n",
        "  theta=np.random.rand(len(x[0]))\r\n",
        "  theta=np.asarray(theta)\r\n",
        "  theta_additions=np.zeros([len(theta)-1])\r\n",
        "  flag=0\r\n",
        "  count=0\r\n",
        "  m=len(x)\r\n",
        "  alpha=0.01\r\n",
        "  costFunction=[]\r\n",
        "  count=0\r\n",
        "  lambdaReg=0\r\n",
        "  sum_cost_regularization=0\r\n",
        "  while(True):\r\n",
        "    flag=0\r\n",
        "    for i in range(0, len(x)):\r\n",
        "      hyp=hypothesis(x[i], theta, category) \r\n",
        "      sum1=sum1+differenceTerm(hyp, y[i])\r\n",
        "      if(category=='linear'):\r\n",
        "        sum_cost=sum_cost+differenceTerm(hyp, y[i])*differenceTerm(hyp, y[i])\r\n",
        "      else:\r\n",
        "        sum_cost=sum_cost-y[i]*np.log(hyp)-(1-y[i])*np.log((1-hyp))\r\n",
        "      for k in range(0, len(theta_additions)):\r\n",
        "        theta_additions[k]=theta_additions[k]+differenceTerm(hyp, y[i])*x[i][k+1]\r\n",
        "    sum_cost_regularization=0\r\n",
        "    for index in range(0, len(theta)):\r\n",
        "      sum_cost_regularization=sum_cost_regularization+theta[index]*theta[index]\r\n",
        "\r\n",
        "    costFunction.append((sum_cost + lambdaReg*sum_cost_regularization)/(2*m))\r\n",
        "    #print(\"Cost function now: \", costFunction[len(costFunction)-1])\r\n",
        "    if((costFunction[len(costFunction)-2]-costFunction[len(costFunction)-1])<0):\r\n",
        "      alpha=alpha/10\r\n",
        "      print(\"Updating alpha to: \", alpha)\r\n",
        "\r\n",
        "    temp.append(theta[0]-(alpha*sum1)/m)\r\n",
        "    regularization_term=1-((alpha*lambdaReg)/m)\r\n",
        "    for k in range(0, len(theta_additions)):\r\n",
        "      temp.append(theta[k+1]*regularization_term-(alpha*theta_additions[k])/m)\r\n",
        "\r\n",
        "    temp=np.asarray(temp)\r\n",
        "    change=np.abs(np.subtract(theta, temp))\r\n",
        "    flag=0\r\n",
        "    for item in change:\r\n",
        "      if(item>=1e-04):\r\n",
        "        flag=1\r\n",
        "        break\r\n",
        "    if(flag==0):\r\n",
        "      print(\"\\nConverged\")\r\n",
        "      break\r\n",
        "    for i in range(0, len(temp)):\r\n",
        "      theta[i]=temp[i]\r\n",
        "    theta_additions=np.zeros([len(theta)-1])\r\n",
        "    #print(\"\\nTheta now==\", theta)\r\n",
        "    temp=[]\r\n",
        "    count=count+1\r\n",
        "    sum1=sum2=sum3=sum_cost=0\r\n",
        "  print(\"No. of iterations: \", count)\r\n",
        "  print(\"Minimum value of cost function: \" , np.min(costFunction))\r\n",
        "  plot_graph(range(1,len(costFunction)+1), costFunction, 'line', 'blue')\r\n",
        "  plot_graph(np.asarray([range(1,len(y)+1), range(1, len(y)+1)]), np.asarray([y, predict(theta,x, category)]), 'scatter', np.asarray(['red', 'blue']))  \r\n",
        "  print(\"Predicted y==\", predict(theta,x, category))\r\n",
        "  from sklearn.metrics import r2_score\r\n",
        "  r2score=r2_score(y, predict(theta,x, category))\r\n",
        "  print(\"r2score for training set=\", r2score)\r\n",
        "  return theta\r\n",
        "\r\n",
        "#LOGISTIC REGRESSION\r\n",
        "#<------------------------------------>\r\n",
        "x=[\r\n",
        "   [1, 2.7810836,\t2.550537003 ],\r\n",
        "   [1,1.465489372,\t2.362125076 ],\r\n",
        "   [1, 3.396561688,\t4.400293529],\r\n",
        "   [1, 1.38807019,\t1.850220317],\r\n",
        "   [1,3.06407232,\t3.005305973],\r\n",
        "   [1, 7.627531214,\t2.759262235],\r\n",
        "   [1, 5.332441248,\t2.088626775],\r\n",
        "   [1, 6.922596716,\t1.77106367],\r\n",
        "   [1,8.675418651,\t-0.2420686549],\r\n",
        "   [1, 7.673756466,\t3.508563011 ]\r\n",
        "   ]\r\n",
        "y=[0,0,0,0,0,1,1,1,1,1]\r\n",
        "x=np.asarray(x)\r\n",
        "y=np.asarray(y)\r\n",
        "\r\n",
        "from sklearn.preprocessing import StandardScaler\r\n",
        "obj=StandardScaler()\r\n",
        "x=obj.fit_transform(x)\r\n",
        "\r\n",
        "theta_from_gd=gradientDescent(x,y,'logistic')\r\n",
        "#<------------------------------------>\r\n",
        "\r\n",
        "#LINEAR REGRESSION\r\n",
        "#<------------------------------------>\r\n",
        "x=[[1,0,0], [1,1,1], [1,2,3],[1,1,3] ]\r\n",
        "y=[6,16,30,24]\r\n",
        "x=np.asarray(x)\r\n",
        "y=np.asarray(y)\r\n",
        "\r\n",
        "theta_from_gd=gradientDescent(x, y, 'linear')\r\n",
        "print(\"theta_from_grad: \", theta_from_gd)\r\n",
        "from sklearn.metrics import r2_score\r\n",
        "r2score_hell=r2_score([16,36,40,72], predict(theta_from_gd, [[1,1,1], [1,1,6], [1,1,7], [1,4,8]], 'linear'))\r\n",
        "print(\"r2 score for test set linear regression: \", r2score_hell)"
      ],
      "execution_count": 17,
      "outputs": [
        {
          "output_type": "stream",
          "text": [
            "\n",
            "Converged\n",
            "No. of iterations:  59172\n",
            "Minimum value of cost function:  0.005647955538903715\n"
          ],
          "name": "stdout"
        },
        {
          "output_type": "display_data",
          "data": {
            "image/png": "[encoded data removed]",
            "text/plain": [
              "<Figure size 720x720 with 1 Axes>"
            ]
          },
          "metadata": {
            "tags": [],
            "needs_background": "light"
          }
        },
        {
          "output_type": "display_data",
          "data": {
            "image/png": "[encoded data removed]",
            "text/plain": [
              "<Figure size 720x720 with 1 Axes>"
            ]
          },
          "metadata": {
            "tags": [],
            "needs_background": "light"
          }
        },
        {
          "output_type": "stream",
          "text": [
            "Predicted y== [0 0 0 0 0 1 1 1 1 1]\n",
            "r2score for training set= 1.0\n",
            "\n",
            "Converged\n",
            "No. of iterations:  2481\n",
            "Minimum value of cost function:  0.00047279729857813954\n"
          ],
          "name": "stdout"
        },
        {
          "output_type": "display_data",
          "data": {
            "image/png": "[encoded data removed]",
            "text/plain": [
              "<Figure size 720x720 with 1 Axes>"
            ]
          },
          "metadata": {
            "tags": [],
            "needs_background": "light"
          }
        },
        {
          "output_type": "display_data",
          "data": {
            "image/png": "[encoded data removed]",
            "text/plain": [
              "<Figure size 720x720 with 1 Axes>"
            ]
          },
          "metadata": {
            "tags": [],
            "needs_background": "light"
          }
        },
        {
          "output_type": "stream",
          "text": [
            "Predicted y== [ 6.01788994 15.97668543 29.96940043 24.04452444]\n",
            "r2score for training set= 0.9999883259926277\n",
            "theta_from_grad:  [6.01788994 5.92487599 4.0339195 ]\n",
            "r2 score for test set linear regression:  0.9377918467606721\n"
          ],
          "name": "stdout"
        }
      ]
    }
  ]
}