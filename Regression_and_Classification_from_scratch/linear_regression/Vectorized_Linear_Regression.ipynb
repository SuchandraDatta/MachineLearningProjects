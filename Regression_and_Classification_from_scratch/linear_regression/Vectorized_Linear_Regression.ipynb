{
  "nbformat": 4,
  "nbformat_minor": 0,
  "metadata": {
    "colab": {
      "name": "Vectorized_Linear_Regression.ipynb",
      "provenance": []
    },
    "kernelspec": {
      "name": "python3",
      "display_name": "Python 3"
    }
  },
  "cells": [
    {
      "cell_type": "code",
      "metadata": {
        "colab": {
          "base_uri": "https://localhost:8080/"
        },
        "id": "QIS1_cOsz1OF",
        "outputId": "cf755d51-f702-4cc4-c76c-935976427103"
      },
      "source": [
        "#For calculations, X must be of shape(Number of features, Number of training samples) so given the dataset where the #observations are row-wise we take the transpose of it to get the observations column-wise. This helps in #vectorization and the bias must be taken as a separate term not part of the theta matrix\r\n",
        "def predict(thetaParam,bias, x_params):\r\n",
        "    x_params=np.asarray(x_params)\r\n",
        "    x_params=x_params.T\r\n",
        "    print(\"x_params=\", x_params,\"\\ttheta=\", thetaParam)\r\n",
        "    ans=np.dot(thetaParam, x_params)+bias\r\n",
        "    print(\"ans=\", ans)\r\n",
        "    return ans\r\n",
        "  \r\n",
        "import numpy as np\r\n",
        "x=[[0,0], [1,1], [2,3],[1,3] ]\r\n",
        "y=[6,16,30,24]\r\n",
        "\r\n",
        "x=np.asarray(x)\r\n",
        "y=np.asarray(y)\r\n",
        "print(\"X=\", x)\r\n",
        "print(\"Y=\", y)\r\n",
        "\r\n",
        "flag=0\r\n",
        "theta=np.random.rand(x.shape[1])\r\n",
        "print(\"Theta=\", theta)\r\n",
        "bias=np.random.rand(1)\r\n",
        "lambda_term=0\r\n",
        "print(\"Bias=\", bias)\r\n",
        "x=x.T\r\n",
        "m=x.shape[1]\r\n",
        "alpha=0.01\r\n",
        "while(True):\r\n",
        "    flag=0\r\n",
        "    step1=np.dot(theta,x)+bias\r\n",
        "    #h(x)-y\r\n",
        "    step2=step1-y\r\n",
        "    step2=np.square(step2)\r\n",
        "    #print(\"After squaring step2: \", step2)\r\n",
        "    cost_function=np.sum(step2)\r\n",
        "    #print(\"Cost function part 1: \", cost_function)\r\n",
        "    cost_function=(cost_function)/(2*m)+lambda_term*(np.sum(np.square(theta)))/(2*m)\r\n",
        "    #print(\"Cost function with R2 regularization term: \", cost_function)\r\n",
        "\r\n",
        "    step3=np.dot(x, (step1-y))\r\n",
        "    #print(step3)\r\n",
        "    change_theta=theta*(1-(alpha*lambda_term)/m)-(alpha/m)*step3\r\n",
        "    change_bias=bias-(alpha/m)*np.sum((step1-y))\r\n",
        "    hold_array=np.abs(theta-change_theta)\r\n",
        "    #print(\"change_theta=\", change_theta)\r\n",
        "    #print(\"change_bias=\", change_bias)\r\n",
        "    '''for i in range(0, len(change_theta)):\r\n",
        "            hold=theta[i]-change_theta[i]\r\n",
        "            if(hold<0):\r\n",
        "                hold=-hold\r\n",
        "            if(hold>=1e-15):\r\n",
        "                flag=1\r\n",
        "                break\r\n",
        "    if(flag==0):\r\n",
        "        print(\"Converged\")\r\n",
        "        break'''\r\n",
        "    if(hold_array.any()>=1e-15):\r\n",
        "        flag=1\r\n",
        "    if(flag==0):\r\n",
        "        print(\"Converged\")\r\n",
        "        break\r\n",
        "    theta=change_theta\r\n",
        "    bias=change_bias\r\n",
        "    #dummy=input(\"Give input\")\r\n",
        "print(\"THETA=\", theta)\r\n",
        "print(\"BIAS=\", bias)\r\n",
        "\r\n",
        "from sklearn.metrics import r2_score\r\n",
        "r2score_hell=r2_score([16,36,40,72], predict(theta,bias,[[1,1], [1,6], [1,7], [4,8]]))\r\n",
        "print(\"r2 score for test set linear regression: \", r2score_hell)"
      ],
      "execution_count": 19,
      "outputs": [
        {
          "output_type": "stream",
          "text": [
            "X= [[0 0]\n",
            " [1 1]\n",
            " [2 3]\n",
            " [1 3]]\n",
            "Y= [ 6 16 30 24]\n",
            "Theta= [0.71602868 0.94198152]\n",
            "Bias= [0.98750484]\n",
            "Converged\n",
            "THETA= [6. 4.]\n",
            "BIAS= [6.]\n",
            "x_params= [[1 1 1 4]\n",
            " [1 6 7 8]] \ttheta= [6. 4.]\n",
            "ans= [16. 36. 40. 62.]\n",
            "r2 score for test set linear regression:  0.9379652605459036\n"
          ],
          "name": "stdout"
        }
      ]
    }
  ]
}