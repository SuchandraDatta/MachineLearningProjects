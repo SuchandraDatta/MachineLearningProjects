{
  "nbformat": 4,
  "nbformat_minor": 0,
  "metadata": {
    "colab": {
      "name": "K_Nearest_Neighbours.ipynb",
      "provenance": []
    },
    "kernelspec": {
      "name": "python3",
      "display_name": "Python 3"
    }
  },
  "cells": [
    {
      "cell_type": "code",
      "metadata": {
        "colab": {
          "base_uri": "https://localhost:8080/"
        },
        "id": "lUtjEIrAvxnd",
        "outputId": "bf9b294e-dd77-41f3-de4a-490594b323ba"
      },
      "source": [
        "#K nearest neighbours algorithm\r\n",
        "import numpy as np\r\n",
        "import matplotlib.pyplot as plt\r\n",
        "\r\n",
        "def EuclideanDistance(new_point, datasetX):\r\n",
        "  sum_squares=[]\r\n",
        "  for i in range(0, len(new_point)):\r\n",
        "    sum_squares.append((new_point[i]-datasetX[i])**2);\r\n",
        "  sum_squares=np.asarray(sum_squares)\r\n",
        "  ans=np.sqrt(np.sum(sum_squares))\r\n",
        "  return ans\r\n",
        "\r\n",
        "#Standardization performed\r\n",
        "def feature_scaling(on_this_array):\r\n",
        "  if(len(on_this_array.shape)==2):\r\n",
        "    on_this_array=on_this_array.astype(np.double)\r\n",
        "    for i in range(0, len(on_this_array[0])):\r\n",
        "        meanValue=np.mean(on_this_array[:,i])\r\n",
        "        stdValue=np.std(on_this_array[:,i])\r\n",
        "        on_this_array[:,i]=(on_this_array[:,i]-meanValue)/stdValue\r\n",
        "  else:\r\n",
        "    meanValue=np.mean(on_this_array)\r\n",
        "    stdValue=np.std(on_this_array)\r\n",
        "    on_this_array[:]=(on_this_array[:]-meanValue)/stdValue\r\n",
        "  return on_this_array\r\n",
        "\r\n",
        "datasetX=[\r\n",
        "         [7,7], [7,4],[3,4],[1,4]\r\n",
        "]\r\n",
        "datasetY=[0,0,1,1]\r\n",
        "datasetX=np.asarray(datasetX)\r\n",
        "datasetY=np.asarray(datasetY)\r\n",
        "\r\n",
        "datasetX=feature_scaling(datasetX)\r\n",
        "new_point=[3,7]\r\n",
        "new_point=np.asarray(new_point)\r\n",
        "new_point=feature_scaling(new_point)\r\n",
        "#Get the Euclidean distance on new point from all points in the dataset\r\n",
        "distance_list=[]\r\n",
        "for i in range(0, len(datasetX)):\r\n",
        "  distance_list.append(EuclideanDistance(new_point, datasetX[i]))\r\n",
        "\r\n",
        "#Select k sort distances, select least k distances, mode of the class labels for least k distances is the required class\r\n",
        "#For regression, the mean of the least k values is the required prediction\r\n",
        "k=3\r\n",
        "least=0\r\n",
        "labels_to_consider=[]\r\n",
        "copyY=datasetY\r\n",
        "print(distance_list)\r\n",
        "for i in range(0, len(distance_list)):\r\n",
        "  for j in range(0, len(distance_list)-1-i):\r\n",
        "    if(distance_list[j]>=distance_list[j+1]):\r\n",
        "      temp=distance_list[j]\r\n",
        "      distance_list[j]=distance_list[j+1]\r\n",
        "      distance_list[j+1]=temp\r\n",
        "      temp=copyY[j]\r\n",
        "      copyY[j]=copyY[j+1]\r\n",
        "      copyY[j+1]=temp\r\n",
        "print(distance_list)\r\n",
        "print(copyY)\r\n",
        "\r\n",
        "labels_to_consider=copyY[0:k]\r\n",
        "print(labels_to_consider)\r\n",
        "from scipy import stats\r\n",
        "label_selected=stats.mode(labels_to_consider)\r\n",
        "print(\"The label selected is: \", label_selected[0][0])"
      ],
      "execution_count": 1,
      "outputs": [
        {
          "output_type": "stream",
          "text": [
            "[2.0943555591367295, 2.5176299757782643, 1.632993161855452, 1.6150998205402496]\n",
            "[1.6150998205402496, 1.632993161855452, 2.0943555591367295, 2.5176299757782643]\n",
            "[1 1 0 0]\n",
            "[1 1 0]\n",
            "The label selected is:  1\n"
          ],
          "name": "stdout"
        }
      ]
    }
  ]
}