{
  "nbformat": 4,
  "nbformat_minor": 0,
  "metadata": {
    "colab": {
      "name": "Vectorized_Logistic_Regression_NN_approach.ipynb",
      "provenance": []
    },
    "kernelspec": {
      "name": "python3",
      "display_name": "Python 3"
    }
  },
  "cells": [
    {
      "cell_type": "code",
      "metadata": {
        "colab": {
          "base_uri": "https://localhost:8080/"
        },
        "id": "ItuazqZ3yor9",
        "outputId": "2b02a4c1-62a6-4374-aaf2-d1a7e0f78e79"
      },
      "source": [
        "import numpy as np\r\n",
        "from scipy.special import expit\r\n",
        "\r\n",
        "x=[\r\n",
        "   [2.7810836,\t2.550537003 ],\r\n",
        "   [1.465489372,\t2.362125076 ],\r\n",
        "   [ 3.396561688,\t4.400293529],\r\n",
        "   [ 1.38807019,\t1.850220317],\r\n",
        "   [3.06407232,\t3.005305973],\r\n",
        "   [ 7.627531214,\t2.759262235],\r\n",
        "   [5.332441248,\t2.088626775],\r\n",
        "   [ 6.922596716,\t1.77106367],\r\n",
        "   [8.675418651,\t-0.2420686549],\r\n",
        "   [ 7.673756466,\t3.508563011 ]\r\n",
        "   ]\r\n",
        "y=[0,0,0,0,0,1,1,1,1,1]\r\n",
        "x=np.asarray(x)\r\n",
        "y=np.asarray(y)\r\n",
        "x=x.T\r\n",
        "theta=np.random.rand(x.shape[0])\r\n",
        "bias=np.random.rand(1)\r\n",
        "alpha=1\r\n",
        "flag=0\r\n",
        "m=x.shape[1]\r\n",
        "while(True):\r\n",
        "   flag=0\r\n",
        "   Z=np.dot(theta,x)+bias\r\n",
        "   A=expit(Z)\r\n",
        "   dZ=A-y\r\n",
        "   if(np.isnan(np.sum(dZ))):\r\n",
        "      break\r\n",
        "   dW=(np.dot(x,dZ.T))/m\r\n",
        "   dB=(np.sum(dZ))/m\r\n",
        "   change_theta=theta-alpha*dW\r\n",
        "   change_bias=bias-alpha*dB\r\n",
        "   hold_array=np.abs(theta-change_theta)\r\n",
        "   if(np.max(hold_array)>=1e-05):\r\n",
        "      flag=1\r\n",
        "   if(flag==0):\r\n",
        "      print(\"Converged\")\r\n",
        "      break\r\n",
        "   theta=change_theta\r\n",
        "   bias=change_bias\r\n",
        "   #print(\"Theta=\", theta)\r\n",
        "\r\n",
        "print(\"Theta=\", theta)\r\n",
        "print(\"Bias=\", bias)\r\n",
        "\r\n",
        "\r\n",
        "                           "
      ],
      "execution_count": 16,
      "outputs": [
        {
          "output_type": "stream",
          "text": [
            "Converged\n",
            "Theta= [ 6.04703922 -9.17464448]\n",
            "Bias= [-2.93209008]\n"
          ],
          "name": "stdout"
        }
      ]
    }
  ]
}